{
 "cells": [
  {
   "cell_type": "code",
   "execution_count": 1,
   "id": "7cd60c6c",
   "metadata": {},
   "outputs": [],
   "source": [
    "import numpy as np \n",
    "import pandas as pd \n",
    "import zipfile\n",
    "import tensorflow as tf\n"
   ]
  },
  {
   "cell_type": "code",
   "execution_count": 2,
   "id": "cafae888",
   "metadata": {},
   "outputs": [],
   "source": [
    "import os\n",
    "for dirname, _, filenames in os.walk('/kaggle/input'):\n",
    "    for filename in filenames:\n",
    "        print(os.path.join(dirname, filename))"
   ]
  },
  {
   "cell_type": "code",
   "execution_count": 3,
   "id": "29f56df2",
   "metadata": {},
   "outputs": [],
   "source": [
    "import matplotlib as plt\n",
    "from tensorflow.keras.models import Sequential \n",
    "from tensorflow.keras.layers import Dense, Activation, Flatten, Dropout, Conv2D,MaxPooling2D,BatchNormalization\n",
    "from tensorflow.keras.preprocessing.image import ImageDataGenerator\n",
    "from tensorflow.keras.optimizers import Adam, RMSprop, SGD\n",
    "from tensorflow.keras.metrics import categorical_crossentropy\n",
    "from sklearn.metrics import confusion_matrix"
   ]
  },
  {
   "cell_type": "code",
   "execution_count": 4,
   "id": "406457c5",
   "metadata": {},
   "outputs": [],
   "source": [
    "with zipfile.ZipFile('AI_final.zip', 'r') as z:\n",
    "    z.extractall('AI_final')"
   ]
  },
  {
   "cell_type": "code",
   "execution_count": 5,
   "id": "b0199286",
   "metadata": {},
   "outputs": [],
   "source": [
    "filenames = os.listdir(\"./AI_final/emotion_images/\")\n",
    "categories = []\n",
    "for image in filenames :\n",
    "    category = image.split('.')[0]\n",
    "    if category == 'happy' :\n",
    "        categories.append(1)\n",
    "    elif category == 'disgust' :\n",
    "        categories.append(2)\n",
    "    elif category == 'fear' :\n",
    "        categories.append(3)\n",
    "    elif category == 'angry' :\n",
    "        categories.append(4)\n",
    "    elif category == 'neutral' :\n",
    "        categories.append(5)\n",
    "    elif category == 'sad' :\n",
    "        categories.append(6)\n",
    "    else : \n",
    "        categories.append(0)"
   ]
  },
  {
   "cell_type": "code",
   "execution_count": 6,
   "id": "7e644758",
   "metadata": {},
   "outputs": [
    {
     "data": {
      "text/html": [
       "<div>\n",
       "<style scoped>\n",
       "    .dataframe tbody tr th:only-of-type {\n",
       "        vertical-align: middle;\n",
       "    }\n",
       "\n",
       "    .dataframe tbody tr th {\n",
       "        vertical-align: top;\n",
       "    }\n",
       "\n",
       "    .dataframe thead th {\n",
       "        text-align: right;\n",
       "    }\n",
       "</style>\n",
       "<table border=\"1\" class=\"dataframe\">\n",
       "  <thead>\n",
       "    <tr style=\"text-align: right;\">\n",
       "      <th></th>\n",
       "      <th>filename</th>\n",
       "      <th>category</th>\n",
       "    </tr>\n",
       "  </thead>\n",
       "  <tbody>\n",
       "    <tr>\n",
       "      <th>0</th>\n",
       "      <td>angry</td>\n",
       "      <td>4</td>\n",
       "    </tr>\n",
       "    <tr>\n",
       "      <th>1</th>\n",
       "      <td>disgust</td>\n",
       "      <td>2</td>\n",
       "    </tr>\n",
       "    <tr>\n",
       "      <th>2</th>\n",
       "      <td>fear</td>\n",
       "      <td>3</td>\n",
       "    </tr>\n",
       "    <tr>\n",
       "      <th>3</th>\n",
       "      <td>happy</td>\n",
       "      <td>1</td>\n",
       "    </tr>\n",
       "    <tr>\n",
       "      <th>4</th>\n",
       "      <td>neutral</td>\n",
       "      <td>5</td>\n",
       "    </tr>\n",
       "  </tbody>\n",
       "</table>\n",
       "</div>"
      ],
      "text/plain": [
       "  filename  category\n",
       "0    angry         4\n",
       "1  disgust         2\n",
       "2     fear         3\n",
       "3    happy         1\n",
       "4  neutral         5"
      ]
     },
     "execution_count": 6,
     "metadata": {},
     "output_type": "execute_result"
    }
   ],
   "source": [
    "df = pd.DataFrame({'filename' : filenames, 'category' : categories})\n",
    "df.head()"
   ]
  },
  {
   "cell_type": "code",
   "execution_count": 7,
   "id": "0f3fd31c",
   "metadata": {},
   "outputs": [
    {
     "data": {
      "text/plain": [
       "0    2\n",
       "4    1\n",
       "2    1\n",
       "3    1\n",
       "1    1\n",
       "5    1\n",
       "6    1\n",
       "Name: category, dtype: int64"
      ]
     },
     "execution_count": 7,
     "metadata": {},
     "output_type": "execute_result"
    }
   ],
   "source": [
    "df['category'].value_counts()"
   ]
  },
  {
   "cell_type": "code",
   "execution_count": 46,
   "id": "7d38d773",
   "metadata": {},
   "outputs": [
    {
     "ename": "PermissionError",
     "evalue": "[Errno 13] Permission denied: './AI_final/emotion_images/angry'",
     "output_type": "error",
     "traceback": [
      "\u001b[1;31m---------------------------------------------------------------------------\u001b[0m",
      "\u001b[1;31mPermissionError\u001b[0m                           Traceback (most recent call last)",
      "\u001b[1;32m~\\AppData\\Local\\Temp/ipykernel_24012/1795851307.py\u001b[0m in \u001b[0;36m<module>\u001b[1;34m\u001b[0m\n\u001b[0;32m      1\u001b[0m \u001b[1;32mfor\u001b[0m \u001b[0mi\u001b[0m \u001b[1;32min\u001b[0m \u001b[0mrange\u001b[0m\u001b[1;33m(\u001b[0m\u001b[1;36m10\u001b[0m\u001b[1;33m)\u001b[0m \u001b[1;33m:\u001b[0m\u001b[1;33m\u001b[0m\u001b[1;33m\u001b[0m\u001b[0m\n\u001b[0;32m      2\u001b[0m     \u001b[0msample\u001b[0m \u001b[1;33m=\u001b[0m \u001b[0mfilenames\u001b[0m\u001b[1;33m[\u001b[0m\u001b[0mi\u001b[0m\u001b[1;33m]\u001b[0m\u001b[1;33m\u001b[0m\u001b[1;33m\u001b[0m\u001b[0m\n\u001b[1;32m----> 3\u001b[1;33m     \u001b[0mimage\u001b[0m \u001b[1;33m=\u001b[0m \u001b[0mtf\u001b[0m\u001b[1;33m.\u001b[0m\u001b[0mkeras\u001b[0m\u001b[1;33m.\u001b[0m\u001b[0mpreprocessing\u001b[0m\u001b[1;33m.\u001b[0m\u001b[0mimage\u001b[0m\u001b[1;33m.\u001b[0m\u001b[0mload_img\u001b[0m\u001b[1;33m(\u001b[0m\u001b[1;34m'./AI_final/emotion_images/'\u001b[0m \u001b[1;33m+\u001b[0m \u001b[0msample\u001b[0m\u001b[1;33m)\u001b[0m\u001b[1;33m\u001b[0m\u001b[1;33m\u001b[0m\u001b[0m\n\u001b[0m\u001b[0;32m      4\u001b[0m     \u001b[0mplt\u001b[0m\u001b[1;33m.\u001b[0m\u001b[0mimshow\u001b[0m\u001b[1;33m(\u001b[0m\u001b[0mimage\u001b[0m\u001b[1;33m)\u001b[0m\u001b[1;33m\u001b[0m\u001b[1;33m\u001b[0m\u001b[0m\n\u001b[0;32m      5\u001b[0m     \u001b[1;31m#plt.title('happy' if categories[i+10]==1 else 'sad')\u001b[0m\u001b[1;33m\u001b[0m\u001b[1;33m\u001b[0m\u001b[0m\n",
      "\u001b[1;32m~\\Downloads\\lib\\site-packages\\keras\\preprocessing\\image.py\u001b[0m in \u001b[0;36mload_img\u001b[1;34m(path, grayscale, color_mode, target_size, interpolation)\u001b[0m\n\u001b[0;32m    311\u001b[0m       \u001b[0mValueError\u001b[0m\u001b[1;33m:\u001b[0m \u001b[1;32mif\u001b[0m \u001b[0minterpolation\u001b[0m \u001b[0mmethod\u001b[0m \u001b[1;32mis\u001b[0m \u001b[1;32mnot\u001b[0m \u001b[0msupported\u001b[0m\u001b[1;33m.\u001b[0m\u001b[1;33m\u001b[0m\u001b[1;33m\u001b[0m\u001b[0m\n\u001b[0;32m    312\u001b[0m   \"\"\"\n\u001b[1;32m--> 313\u001b[1;33m   return image.load_img(path, grayscale=grayscale, color_mode=color_mode,\n\u001b[0m\u001b[0;32m    314\u001b[0m                         target_size=target_size, interpolation=interpolation)\n\u001b[0;32m    315\u001b[0m \u001b[1;33m\u001b[0m\u001b[0m\n",
      "\u001b[1;32m~\\Downloads\\lib\\site-packages\\keras_preprocessing\\image\\utils.py\u001b[0m in \u001b[0;36mload_img\u001b[1;34m(path, grayscale, color_mode, target_size, interpolation)\u001b[0m\n\u001b[0;32m    111\u001b[0m         raise ImportError('Could not import PIL.Image. '\n\u001b[0;32m    112\u001b[0m                           'The use of `load_img` requires PIL.')\n\u001b[1;32m--> 113\u001b[1;33m     \u001b[1;32mwith\u001b[0m \u001b[0mopen\u001b[0m\u001b[1;33m(\u001b[0m\u001b[0mpath\u001b[0m\u001b[1;33m,\u001b[0m \u001b[1;34m'rb'\u001b[0m\u001b[1;33m)\u001b[0m \u001b[1;32mas\u001b[0m \u001b[0mf\u001b[0m\u001b[1;33m:\u001b[0m\u001b[1;33m\u001b[0m\u001b[1;33m\u001b[0m\u001b[0m\n\u001b[0m\u001b[0;32m    114\u001b[0m         \u001b[0mimg\u001b[0m \u001b[1;33m=\u001b[0m \u001b[0mpil_image\u001b[0m\u001b[1;33m.\u001b[0m\u001b[0mopen\u001b[0m\u001b[1;33m(\u001b[0m\u001b[0mio\u001b[0m\u001b[1;33m.\u001b[0m\u001b[0mBytesIO\u001b[0m\u001b[1;33m(\u001b[0m\u001b[0mf\u001b[0m\u001b[1;33m.\u001b[0m\u001b[0mread\u001b[0m\u001b[1;33m(\u001b[0m\u001b[1;33m)\u001b[0m\u001b[1;33m)\u001b[0m\u001b[1;33m)\u001b[0m\u001b[1;33m\u001b[0m\u001b[1;33m\u001b[0m\u001b[0m\n\u001b[0;32m    115\u001b[0m         \u001b[1;32mif\u001b[0m \u001b[0mcolor_mode\u001b[0m \u001b[1;33m==\u001b[0m \u001b[1;34m'grayscale'\u001b[0m\u001b[1;33m:\u001b[0m\u001b[1;33m\u001b[0m\u001b[1;33m\u001b[0m\u001b[0m\n",
      "\u001b[1;31mPermissionError\u001b[0m: [Errno 13] Permission denied: './AI_final/emotion_images/angry'"
     ]
    }
   ],
   "source": [
    "#for i in range(10) :\n",
    "    #sample = filenames[i]\n",
    "    #image = tf.keras.preprocessing.image.load_img('./AI_final/emotion_images/' + sample)\n",
    "    #plt.imshow(image)\n",
    "    #plt.title('happy' if categories[i+10]==1 else 'sad')\n",
    "    #plt.show()"
   ]
  },
  {
   "cell_type": "code",
   "execution_count": 8,
   "id": "1ff85f16",
   "metadata": {},
   "outputs": [
    {
     "name": "stdout",
     "output_type": "stream",
     "text": [
      "Model: \"sequential\"\n",
      "_________________________________________________________________\n",
      "Layer (type)                 Output Shape              Param #   \n",
      "=================================================================\n",
      "conv2d (Conv2D)              (None, 48, 48, 64)        1792      \n",
      "_________________________________________________________________\n",
      "batch_normalization (BatchNo (None, 48, 48, 64)        256       \n",
      "_________________________________________________________________\n",
      "activation (Activation)      (None, 48, 48, 64)        0         \n",
      "_________________________________________________________________\n",
      "conv2d_1 (Conv2D)            (None, 48, 48, 64)        36928     \n",
      "_________________________________________________________________\n",
      "batch_normalization_1 (Batch (None, 48, 48, 64)        256       \n",
      "_________________________________________________________________\n",
      "activation_1 (Activation)    (None, 48, 48, 64)        0         \n",
      "_________________________________________________________________\n",
      "conv2d_2 (Conv2D)            (None, 48, 48, 64)        36928     \n",
      "_________________________________________________________________\n",
      "batch_normalization_2 (Batch (None, 48, 48, 64)        256       \n",
      "_________________________________________________________________\n",
      "activation_2 (Activation)    (None, 48, 48, 64)        0         \n",
      "_________________________________________________________________\n",
      "max_pooling2d (MaxPooling2D) (None, 24, 24, 64)        0         \n",
      "_________________________________________________________________\n",
      "conv2d_3 (Conv2D)            (None, 24, 24, 128)       73856     \n",
      "_________________________________________________________________\n",
      "batch_normalization_3 (Batch (None, 24, 24, 128)       512       \n",
      "_________________________________________________________________\n",
      "activation_3 (Activation)    (None, 24, 24, 128)       0         \n",
      "_________________________________________________________________\n",
      "conv2d_4 (Conv2D)            (None, 24, 24, 128)       147584    \n",
      "_________________________________________________________________\n",
      "batch_normalization_4 (Batch (None, 24, 24, 128)       512       \n",
      "_________________________________________________________________\n",
      "activation_4 (Activation)    (None, 24, 24, 128)       0         \n",
      "_________________________________________________________________\n",
      "conv2d_5 (Conv2D)            (None, 24, 24, 128)       147584    \n",
      "_________________________________________________________________\n",
      "batch_normalization_5 (Batch (None, 24, 24, 128)       512       \n",
      "_________________________________________________________________\n",
      "activation_5 (Activation)    (None, 24, 24, 128)       0         \n",
      "_________________________________________________________________\n",
      "max_pooling2d_1 (MaxPooling2 (None, 12, 12, 128)       0         \n",
      "_________________________________________________________________\n",
      "conv2d_6 (Conv2D)            (None, 12, 12, 256)       295168    \n",
      "_________________________________________________________________\n",
      "batch_normalization_6 (Batch (None, 12, 12, 256)       1024      \n",
      "_________________________________________________________________\n",
      "activation_6 (Activation)    (None, 12, 12, 256)       0         \n",
      "_________________________________________________________________\n",
      "max_pooling2d_2 (MaxPooling2 (None, 6, 6, 256)         0         \n",
      "_________________________________________________________________\n",
      "conv2d_7 (Conv2D)            (None, 6, 6, 512)         1180160   \n",
      "_________________________________________________________________\n",
      "batch_normalization_7 (Batch (None, 6, 6, 512)         2048      \n",
      "_________________________________________________________________\n",
      "activation_7 (Activation)    (None, 6, 6, 512)         0         \n",
      "_________________________________________________________________\n",
      "max_pooling2d_3 (MaxPooling2 (None, 3, 3, 512)         0         \n",
      "_________________________________________________________________\n",
      "conv2d_8 (Conv2D)            (None, 3, 3, 512)         2359808   \n",
      "_________________________________________________________________\n",
      "batch_normalization_8 (Batch (None, 3, 3, 512)         2048      \n",
      "_________________________________________________________________\n",
      "activation_8 (Activation)    (None, 3, 3, 512)         0         \n",
      "_________________________________________________________________\n",
      "max_pooling2d_4 (MaxPooling2 (None, 1, 1, 512)         0         \n",
      "_________________________________________________________________\n",
      "flatten (Flatten)            (None, 512)               0         \n",
      "_________________________________________________________________\n",
      "dropout (Dropout)            (None, 512)               0         \n",
      "_________________________________________________________________\n",
      "dense (Dense)                (None, 7)                 3591      \n",
      "=================================================================\n",
      "Total params: 4,290,823\n",
      "Trainable params: 4,287,111\n",
      "Non-trainable params: 3,712\n",
      "_________________________________________________________________\n"
     ]
    }
   ],
   "source": [
    "BATCH_SIZE = 128\n",
    "\n",
    "def create_model(x=None):\n",
    "    # we initialize the model\n",
    "    model = Sequential()\n",
    "\n",
    "    # Conv Block 1\n",
    "    model.add(Conv2D(64, (3, 3), input_shape=(48,48,3),  padding='same'))\n",
    "    model.add(BatchNormalization())\n",
    "    model.add(Activation('relu'))\n",
    "    model.add(Conv2D(64, (3, 3),   padding='same'))\n",
    "    model.add(BatchNormalization())\n",
    "    model.add(Activation('relu'))\n",
    "    model.add(Conv2D(64, (3, 3),  padding='same'))\n",
    "    model.add(BatchNormalization())\n",
    "    model.add(Activation('relu'))\n",
    "    model.add(MaxPooling2D(pool_size=(2, 2), strides=(2, 2)))\n",
    "\n",
    "    # Conv Block 2\n",
    "    model.add(Conv2D(128, (3, 3),  padding='same'))\n",
    "    model.add(BatchNormalization())\n",
    "    model.add(Activation('relu'))\n",
    "    model.add(Conv2D(128, (3, 3),  padding='same'))\n",
    "    model.add(BatchNormalization())\n",
    "    model.add(Activation('relu'))\n",
    "    model.add(Conv2D(128, (3, 3),  padding='same'))\n",
    "    model.add(BatchNormalization())\n",
    "    model.add(Activation('relu'))\n",
    "    model.add(MaxPooling2D(pool_size=(2, 2), strides=(2, 2)))\n",
    "\n",
    "    # Conv Block 3\n",
    "    model.add(Conv2D(256, (3, 3),  padding='same'))\n",
    "    model.add(BatchNormalization())\n",
    "    model.add(Activation('relu'))\n",
    "   \n",
    "    model.add(MaxPooling2D(pool_size=(2, 2), strides=(2, 2)))\n",
    "\n",
    "    # Conv Block 4\n",
    "    model.add(Conv2D(512, (3, 3),  padding='same'))\n",
    "    model.add(BatchNormalization())\n",
    "    model.add(Activation('relu'))\n",
    "   \n",
    "    model.add(MaxPooling2D(pool_size=(2, 2), strides=(2, 2)))\n",
    "\n",
    "    # Conv Block 5\n",
    "    model.add(Conv2D(512, (3, 3),  padding='same'))\n",
    "    model.add(BatchNormalization())\n",
    "    model.add(Activation('relu'))\n",
    "   \n",
    "    model.add(MaxPooling2D(pool_size=(3, 3), strides=(3, 3)))\n",
    "\n",
    "\n",
    "    # FC layers\n",
    "    model.add(Flatten())\n",
    "    model.add(Dropout(0.5))\n",
    "    \n",
    "    model.add(Dense(7, activation='softmax'))\n",
    "\n",
    "    return model\n",
    "\n",
    "model = create_model()\n",
    "\n",
    "model.summary()"
   ]
  },
  {
   "cell_type": "code",
   "execution_count": 9,
   "id": "c7fab2ef",
   "metadata": {},
   "outputs": [],
   "source": [
    "def image_data_generator(data_dir,\n",
    "                         data_augment=False,\n",
    "                         batch_size=BATCH_SIZE,\n",
    "                         target_size=(48, 48),\n",
    "                         color_mode='rgb',\n",
    "                         class_mode='categorical',\n",
    "                         shuffle=True):\n",
    "    if data_augment:\n",
    "        datagen = ImageDataGenerator(rescale=1./255,\n",
    "                                     rotation_range=20,\n",
    "                                     width_shift_range=0.2,\n",
    "                                     height_shift_range=0.2,\n",
    "                                     shear_range=0.2,\n",
    "                                     zoom_range=0.2,\n",
    "                                     horizontal_flip=True)\n",
    "    else:\n",
    "        datagen = ImageDataGenerator(rescale=1./255)\n",
    "\n",
    "    generator = datagen.flow_from_directory(data_dir,\n",
    "                                            target_size=target_size,\n",
    "                                            color_mode=color_mode,\n",
    "                                            batch_size=batch_size,\n",
    "                                            shuffle=shuffle,\n",
    "                                            class_mode=class_mode)\n",
    "    return generator"
   ]
  },
  {
   "cell_type": "code",
   "execution_count": 10,
   "id": "91bee645",
   "metadata": {},
   "outputs": [
    {
     "name": "stdout",
     "output_type": "stream",
     "text": [
      "Found 92968 images belonging to 7 classes.\n",
      "Found 17356 images belonging to 7 classes.\n"
     ]
    }
   ],
   "source": [
    "train_generator = image_data_generator('/Users/fiona/AI/AI_final/MMAFEDB/train',data_augment=True)\n",
    "validation_generator = image_data_generator('/Users/fiona/AI/AI_final/MMAFEDB/valid')"
   ]
  },
  {
   "cell_type": "code",
   "execution_count": 11,
   "id": "34201b11",
   "metadata": {},
   "outputs": [
    {
     "name": "stderr",
     "output_type": "stream",
     "text": [
      "C:\\Users\\fiona\\Downloads\\lib\\site-packages\\keras\\optimizer_v2\\optimizer_v2.py:355: UserWarning: The `lr` argument is deprecated, use `learning_rate` instead.\n",
      "  warnings.warn(\n"
     ]
    }
   ],
   "source": [
    "model.compile(Adam(lr=0.001),loss=\"categorical_crossentropy\",metrics=[\"accuracy\"])"
   ]
  },
  {
   "cell_type": "code",
   "execution_count": 12,
   "id": "5a9bf33f",
   "metadata": {},
   "outputs": [],
   "source": [
    "import tensorflow.keras\n",
    "callbacks_list = [\n",
    "tensorflow.keras.callbacks.EarlyStopping(\n",
    "monitor='val_accuracy', min_delta=0.0001, \n",
    "patience=10, verbose=1, mode='auto',\n",
    "baseline=None, restore_best_weights=True),\n",
    "tensorflow.keras.callbacks.ReduceLROnPlateau(\n",
    "monitor='val_accuracy',\n",
    "factor=0.5,\n",
    "patience=5,\n",
    "verbose=1,\n",
    "mode='auto')]"
   ]
  },
  {
   "cell_type": "code",
   "execution_count": 13,
   "id": "4e05cca3",
   "metadata": {},
   "outputs": [
    {
     "name": "stderr",
     "output_type": "stream",
     "text": [
      "C:\\Users\\fiona\\Downloads\\lib\\site-packages\\keras\\engine\\training.py:1972: UserWarning: `Model.fit_generator` is deprecated and will be removed in a future version. Please use `Model.fit`, which supports generators.\n",
      "  warnings.warn('`Model.fit_generator` is deprecated and '\n"
     ]
    },
    {
     "name": "stdout",
     "output_type": "stream",
     "text": [
      "Epoch 1/30\n",
      "726/726 [==============================] - 3770s 5s/step - loss: 1.8049 - accuracy: 0.3373 - val_loss: 1.6762 - val_accuracy: 0.3387\n",
      "Epoch 2/30\n",
      "726/726 [==============================] - 3523s 5s/step - loss: 1.5261 - accuracy: 0.4358 - val_loss: 1.7088 - val_accuracy: 0.3775\n",
      "Epoch 3/30\n",
      "726/726 [==============================] - 3530s 5s/step - loss: 1.2326 - accuracy: 0.5686 - val_loss: 1.4683 - val_accuracy: 0.4805\n",
      "Epoch 4/30\n",
      "726/726 [==============================] - 3534s 5s/step - loss: 1.1103 - accuracy: 0.6134 - val_loss: 1.3620 - val_accuracy: 0.5228\n",
      "Epoch 5/30\n",
      "726/726 [==============================] - 3517s 5s/step - loss: 1.0562 - accuracy: 0.6324 - val_loss: 1.4187 - val_accuracy: 0.4943\n",
      "Epoch 6/30\n",
      "726/726 [==============================] - 3516s 5s/step - loss: 1.0201 - accuracy: 0.6460 - val_loss: 1.2429 - val_accuracy: 0.5586\n",
      "Epoch 7/30\n",
      "726/726 [==============================] - 3518s 5s/step - loss: 0.9891 - accuracy: 0.6558 - val_loss: 1.3996 - val_accuracy: 0.5164\n",
      "Epoch 8/30\n",
      "726/726 [==============================] - 3817s 5s/step - loss: 0.9663 - accuracy: 0.6631 - val_loss: 1.2454 - val_accuracy: 0.5603\n",
      "Epoch 9/30\n",
      "726/726 [==============================] - 3537s 5s/step - loss: 0.9517 - accuracy: 0.6673 - val_loss: 1.3066 - val_accuracy: 0.5280\n",
      "Epoch 10/30\n",
      "726/726 [==============================] - 3304s 5s/step - loss: 0.9311 - accuracy: 0.6734 - val_loss: 1.4472 - val_accuracy: 0.5189\n",
      "Epoch 11/30\n",
      "726/726 [==============================] - 3267s 5s/step - loss: 0.9202 - accuracy: 0.6770 - val_loss: 1.1924 - val_accuracy: 0.5712\n",
      "Epoch 12/30\n",
      "726/726 [==============================] - 3692s 5s/step - loss: 0.9057 - accuracy: 0.6833 - val_loss: 1.3234 - val_accuracy: 0.5383\n",
      "Epoch 13/30\n",
      "726/726 [==============================] - 3577s 5s/step - loss: 0.8942 - accuracy: 0.6861 - val_loss: 1.3134 - val_accuracy: 0.5371\n",
      "Epoch 14/30\n",
      "726/726 [==============================] - 3779s 5s/step - loss: 0.8855 - accuracy: 0.6903 - val_loss: 1.3186 - val_accuracy: 0.5481\n",
      "Epoch 15/30\n",
      "726/726 [==============================] - 3225s 4s/step - loss: 0.8747 - accuracy: 0.6931 - val_loss: 1.2603 - val_accuracy: 0.5592\n",
      "Epoch 16/30\n",
      "726/726 [==============================] - 3209s 4s/step - loss: 0.8629 - accuracy: 0.6975 - val_loss: 1.2768 - val_accuracy: 0.5608\n",
      "\n",
      "Epoch 00016: ReduceLROnPlateau reducing learning rate to 0.0005000000237487257.\n",
      "Epoch 17/30\n",
      "726/726 [==============================] - 3140s 4s/step - loss: 0.8321 - accuracy: 0.7069 - val_loss: 1.2749 - val_accuracy: 0.5584\n",
      "Epoch 18/30\n",
      "726/726 [==============================] - 3045s 4s/step - loss: 0.8207 - accuracy: 0.7093 - val_loss: 1.2033 - val_accuracy: 0.5864\n",
      "Epoch 19/30\n",
      "726/726 [==============================] - 3078s 4s/step - loss: 0.8139 - accuracy: 0.7142 - val_loss: 1.1621 - val_accuracy: 0.5933\n",
      "Epoch 20/30\n",
      "726/726 [==============================] - 3105s 4s/step - loss: 0.8087 - accuracy: 0.7153 - val_loss: 1.2088 - val_accuracy: 0.5751\n",
      "Epoch 21/30\n",
      "726/726 [==============================] - 3108s 4s/step - loss: 0.8024 - accuracy: 0.7157 - val_loss: 1.2559 - val_accuracy: 0.5722\n",
      "Epoch 22/30\n",
      "726/726 [==============================] - 3115s 4s/step - loss: 0.7964 - accuracy: 0.7192 - val_loss: 1.2202 - val_accuracy: 0.5686\n",
      "Epoch 23/30\n",
      "726/726 [==============================] - 3139s 4s/step - loss: 0.7937 - accuracy: 0.7193 - val_loss: 1.1594 - val_accuracy: 0.5907\n",
      "Epoch 24/30\n",
      "726/726 [==============================] - 3125s 4s/step - loss: 0.7855 - accuracy: 0.7213 - val_loss: 1.2236 - val_accuracy: 0.5785\n",
      "\n",
      "Epoch 00024: ReduceLROnPlateau reducing learning rate to 0.0002500000118743628.\n",
      "Epoch 25/30\n",
      "726/726 [==============================] - 3106s 4s/step - loss: 0.7658 - accuracy: 0.7294 - val_loss: 1.1774 - val_accuracy: 0.5916\n",
      "Epoch 26/30\n",
      "726/726 [==============================] - 3304s 5s/step - loss: 0.7617 - accuracy: 0.7300 - val_loss: 1.1875 - val_accuracy: 0.5905\n",
      "Epoch 27/30\n",
      "726/726 [==============================] - 3447s 5s/step - loss: 0.7547 - accuracy: 0.7332 - val_loss: 1.1950 - val_accuracy: 0.5918\n",
      "Epoch 28/30\n",
      "726/726 [==============================] - 3350s 5s/step - loss: 0.7519 - accuracy: 0.7336 - val_loss: 1.2533 - val_accuracy: 0.5810\n",
      "Epoch 29/30\n",
      "726/726 [==============================] - 3163s 4s/step - loss: 0.7487 - accuracy: 0.7347 - val_loss: 1.1881 - val_accuracy: 0.5951\n",
      "Epoch 30/30\n",
      "726/726 [==============================] - 3727s 5s/step - loss: 0.7455 - accuracy: 0.7353 - val_loss: 1.2501 - val_accuracy: 0.5789\n"
     ]
    }
   ],
   "source": [
    "history = model.fit_generator(train_generator,steps_per_epoch=92968//BATCH_SIZE,epochs=30,\n",
    "                              validation_data=validation_generator,\n",
    "                              validation_steps=17356//BATCH_SIZE,callbacks=callbacks_list)\n"
   ]
  },
  {
   "cell_type": "code",
   "execution_count": 14,
   "id": "43e6810d",
   "metadata": {},
   "outputs": [],
   "source": [
    "def evaluate_model(model=None, filepath=None):\n",
    "    \"\"\"return the evaluate \"\"\"\n",
    "    if not model:\n",
    "        assert(filepath)\n",
    "        model = models.load_model(filepath)\n",
    "    test_generator = image_data_generator('/Users/fiona/AI/AI_final/MMAFEDB/test', batch_size=1, shuffle=False)\n",
    "\n",
    "    nb_samples = len(test_generator)\n",
    "    score = model.evaluate_generator(test_generator, steps=nb_samples)\n",
    "    print(score)\n",
    "    return score"
   ]
  },
  {
   "cell_type": "code",
   "execution_count": 15,
   "id": "26898f33",
   "metadata": {},
   "outputs": [
    {
     "name": "stdout",
     "output_type": "stream",
     "text": [
      "Found 17356 images belonging to 7 classes.\n"
     ]
    },
    {
     "name": "stderr",
     "output_type": "stream",
     "text": [
      "C:\\Users\\fiona\\Downloads\\lib\\site-packages\\keras\\engine\\training.py:2006: UserWarning: `Model.evaluate_generator` is deprecated and will be removed in a future version. Please use `Model.evaluate`, which supports generators.\n",
      "  warnings.warn('`Model.evaluate_generator` is deprecated and '\n"
     ]
    },
    {
     "name": "stdout",
     "output_type": "stream",
     "text": [
      "[1.0805546045303345, 0.6292924880981445]\n"
     ]
    }
   ],
   "source": [
    "score = evaluate_model(model)"
   ]
  },
  {
   "cell_type": "code",
   "execution_count": 16,
   "id": "afe866d4",
   "metadata": {},
   "outputs": [],
   "source": [
    "model.save_weights(\"emotion_classifier.h5\")"
   ]
  },
  {
   "cell_type": "code",
   "execution_count": 17,
   "id": "108a3a11",
   "metadata": {},
   "outputs": [],
   "source": [
    "from matplotlib import pyplot as plt"
   ]
  },
  {
   "cell_type": "code",
   "execution_count": 18,
   "id": "27fa59fb",
   "metadata": {},
   "outputs": [
    {
     "data": {
      "image/png": "[encoded data removed]",
      "text/plain": [
       "<Figure size 432x288 with 1 Axes>"
      ]
     },
     "metadata": {
      "needs_background": "light"
     },
     "output_type": "display_data"
    }
   ],
   "source": [
    "plt.plot(history.history['accuracy'])\n",
    "plt.plot(history.history['val_accuracy'])\n",
    "plt.title('model accuracy')\n",
    "plt.xlabel('accuracy')\n",
    "plt.ylabel('epoch')\n",
    "plt.legend(['train','test'],loc='upper left')\n",
    "plt.show()\n"
   ]
  },
  {
   "cell_type": "code",
   "execution_count": 19,
   "id": "8bd453eb",
   "metadata": {},
   "outputs": [
    {
     "data": {
      "image/png": "[encoded data removed]",
      "text/plain": [
       "<Figure size 432x288 with 1 Axes>"
      ]
     },
     "metadata": {
      "needs_background": "light"
     },
     "output_type": "display_data"
    }
   ],
   "source": [
    "plt.plot(history.history['loss'])\n",
    "plt.plot(history.history['val_loss'])\n",
    "plt.title('model loss')\n",
    "plt.xlabel('loss')\n",
    "plt.ylabel('epoch')\n",
    "plt.legend(['train','test'],loc='upper left')\n",
    "plt.show()"
   ]
  }
 ],
 "metadata": {
  "kernelspec": {
   "display_name": "Python 3",
   "language": "python",
   "name": "python3"
  },
  "language_info": {
   "codemirror_mode": {
    "name": "ipython",
    "version": 3
   },
   "file_extension": ".py",
   "mimetype": "text/x-python",
   "name": "python",
   "nbconvert_exporter": "python",
   "pygments_lexer": "ipython3",
   "version": "3.9.7"
  }
 },
 "nbformat": 4,
 "nbformat_minor": 5
}
